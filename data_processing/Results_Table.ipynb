{
 "cells": [
  {
   "cell_type": "code",
   "execution_count": 1,
   "metadata": {},
   "outputs": [],
   "source": [
    "import pandas as pd\n",
    "import numpy as np"
   ]
  },
  {
   "cell_type": "code",
   "execution_count": 2,
   "metadata": {},
   "outputs": [],
   "source": [
    "dict = {'Models': [\"Baseline\", \"Linear Regression\", \"CART\", \"RF (mtry = 5)\", \"RF (mtry = 10)\", \"Boosting\", \n",
    "                   \"Time Series (Random Walk)\", \"Time Series (one term AR)\", \"Time Series (two term AR)\", \n",
    "                   \"Time Series (RF)\"],\n",
    "        'R2': [\"-\", 0.8014, 0.9398040, 0.9735655, 0.9867658, \"-\", 0.9965203, 0.9967, 0.9969, \"-\"],\n",
    "        'OSR2': [0.00003278162, 0.7357, 0.8777108, 0.9645385, 0.9928406, 0.7628486, \"-\", 0.9097873, 0.9090414, 0.8945664]}"
   ]
  },
  {
   "cell_type": "code",
   "execution_count": 3,
   "metadata": {},
   "outputs": [],
   "source": [
    "result = pd.DataFrame(dict)"
   ]
  },
  {
   "cell_type": "code",
   "execution_count": 4,
   "metadata": {},
   "outputs": [
    {
     "data": {
      "text/html": [
       "<div>\n",
       "<style scoped>\n",
       "    .dataframe tbody tr th:only-of-type {\n",
       "        vertical-align: middle;\n",
       "    }\n",
       "\n",
       "    .dataframe tbody tr th {\n",
       "        vertical-align: top;\n",
       "    }\n",
       "\n",
       "    .dataframe thead th {\n",
       "        text-align: right;\n",
       "    }\n",
       "</style>\n",
       "<table border=\"1\" class=\"dataframe\">\n",
       "  <thead>\n",
       "    <tr style=\"text-align: right;\">\n",
       "      <th></th>\n",
       "      <th>Models</th>\n",
       "      <th>R2</th>\n",
       "      <th>OSR2</th>\n",
       "    </tr>\n",
       "  </thead>\n",
       "  <tbody>\n",
       "    <tr>\n",
       "      <td>0</td>\n",
       "      <td>Baseline</td>\n",
       "      <td>-</td>\n",
       "      <td>3.27816e-05</td>\n",
       "    </tr>\n",
       "    <tr>\n",
       "      <td>1</td>\n",
       "      <td>Linear Regression</td>\n",
       "      <td>0.8014</td>\n",
       "      <td>0.7357</td>\n",
       "    </tr>\n",
       "    <tr>\n",
       "      <td>2</td>\n",
       "      <td>CART</td>\n",
       "      <td>0.939804</td>\n",
       "      <td>0.877711</td>\n",
       "    </tr>\n",
       "    <tr>\n",
       "      <td>3</td>\n",
       "      <td>RF (mtry = 5)</td>\n",
       "      <td>0.973565</td>\n",
       "      <td>0.964538</td>\n",
       "    </tr>\n",
       "    <tr>\n",
       "      <td>4</td>\n",
       "      <td>RF (mtry = 10)</td>\n",
       "      <td>0.986766</td>\n",
       "      <td>0.992841</td>\n",
       "    </tr>\n",
       "    <tr>\n",
       "      <td>5</td>\n",
       "      <td>Boosting</td>\n",
       "      <td>-</td>\n",
       "      <td>0.762849</td>\n",
       "    </tr>\n",
       "    <tr>\n",
       "      <td>6</td>\n",
       "      <td>Time Series (Random Walk)</td>\n",
       "      <td>0.99652</td>\n",
       "      <td>-</td>\n",
       "    </tr>\n",
       "    <tr>\n",
       "      <td>7</td>\n",
       "      <td>Time Series (one term AR)</td>\n",
       "      <td>0.9967</td>\n",
       "      <td>0.909787</td>\n",
       "    </tr>\n",
       "    <tr>\n",
       "      <td>8</td>\n",
       "      <td>Time Series (two term AR)</td>\n",
       "      <td>0.9969</td>\n",
       "      <td>0.909041</td>\n",
       "    </tr>\n",
       "    <tr>\n",
       "      <td>9</td>\n",
       "      <td>Time Series (RF)</td>\n",
       "      <td>-</td>\n",
       "      <td>0.894566</td>\n",
       "    </tr>\n",
       "  </tbody>\n",
       "</table>\n",
       "</div>"
      ],
      "text/plain": [
       "                      Models        R2         OSR2\n",
       "0                   Baseline         -  3.27816e-05\n",
       "1          Linear Regression    0.8014       0.7357\n",
       "2                       CART  0.939804     0.877711\n",
       "3              RF (mtry = 5)  0.973565     0.964538\n",
       "4             RF (mtry = 10)  0.986766     0.992841\n",
       "5                   Boosting         -     0.762849\n",
       "6  Time Series (Random Walk)   0.99652            -\n",
       "7  Time Series (one term AR)    0.9967     0.909787\n",
       "8  Time Series (two term AR)    0.9969     0.909041\n",
       "9           Time Series (RF)         -     0.894566"
      ]
     },
     "execution_count": 4,
     "metadata": {},
     "output_type": "execute_result"
    }
   ],
   "source": [
    "result"
   ]
  },
  {
   "cell_type": "code",
   "execution_count": 5,
   "metadata": {},
   "outputs": [
    {
     "data": {
      "text/html": [
       "<style  type=\"text/css\" >\n",
       "</style><table id=\"T_95f1ec88_22ef_11ea_8566_38f9d353bc0e\" ><thead>    <tr>        <th class=\"col_heading level0 col0\" >Models</th>        <th class=\"col_heading level0 col1\" >R2</th>        <th class=\"col_heading level0 col2\" >OSR2</th>    </tr></thead><tbody>\n",
       "                <tr>\n",
       "                                <td id=\"T_95f1ec88_22ef_11ea_8566_38f9d353bc0erow0_col0\" class=\"data row0 col0\" >Baseline</td>\n",
       "                        <td id=\"T_95f1ec88_22ef_11ea_8566_38f9d353bc0erow0_col1\" class=\"data row0 col1\" >-</td>\n",
       "                        <td id=\"T_95f1ec88_22ef_11ea_8566_38f9d353bc0erow0_col2\" class=\"data row0 col2\" >3.27816e-05</td>\n",
       "            </tr>\n",
       "            <tr>\n",
       "                                <td id=\"T_95f1ec88_22ef_11ea_8566_38f9d353bc0erow1_col0\" class=\"data row1 col0\" >Linear Regression</td>\n",
       "                        <td id=\"T_95f1ec88_22ef_11ea_8566_38f9d353bc0erow1_col1\" class=\"data row1 col1\" >0.8014</td>\n",
       "                        <td id=\"T_95f1ec88_22ef_11ea_8566_38f9d353bc0erow1_col2\" class=\"data row1 col2\" >0.7357</td>\n",
       "            </tr>\n",
       "            <tr>\n",
       "                                <td id=\"T_95f1ec88_22ef_11ea_8566_38f9d353bc0erow2_col0\" class=\"data row2 col0\" >CART</td>\n",
       "                        <td id=\"T_95f1ec88_22ef_11ea_8566_38f9d353bc0erow2_col1\" class=\"data row2 col1\" >0.939804</td>\n",
       "                        <td id=\"T_95f1ec88_22ef_11ea_8566_38f9d353bc0erow2_col2\" class=\"data row2 col2\" >0.877711</td>\n",
       "            </tr>\n",
       "            <tr>\n",
       "                                <td id=\"T_95f1ec88_22ef_11ea_8566_38f9d353bc0erow3_col0\" class=\"data row3 col0\" >RF (mtry = 5)</td>\n",
       "                        <td id=\"T_95f1ec88_22ef_11ea_8566_38f9d353bc0erow3_col1\" class=\"data row3 col1\" >0.973565</td>\n",
       "                        <td id=\"T_95f1ec88_22ef_11ea_8566_38f9d353bc0erow3_col2\" class=\"data row3 col2\" >0.964538</td>\n",
       "            </tr>\n",
       "            <tr>\n",
       "                                <td id=\"T_95f1ec88_22ef_11ea_8566_38f9d353bc0erow4_col0\" class=\"data row4 col0\" >RF (mtry = 10)</td>\n",
       "                        <td id=\"T_95f1ec88_22ef_11ea_8566_38f9d353bc0erow4_col1\" class=\"data row4 col1\" >0.986766</td>\n",
       "                        <td id=\"T_95f1ec88_22ef_11ea_8566_38f9d353bc0erow4_col2\" class=\"data row4 col2\" >0.992841</td>\n",
       "            </tr>\n",
       "            <tr>\n",
       "                                <td id=\"T_95f1ec88_22ef_11ea_8566_38f9d353bc0erow5_col0\" class=\"data row5 col0\" >Boosting</td>\n",
       "                        <td id=\"T_95f1ec88_22ef_11ea_8566_38f9d353bc0erow5_col1\" class=\"data row5 col1\" >-</td>\n",
       "                        <td id=\"T_95f1ec88_22ef_11ea_8566_38f9d353bc0erow5_col2\" class=\"data row5 col2\" >0.762849</td>\n",
       "            </tr>\n",
       "            <tr>\n",
       "                                <td id=\"T_95f1ec88_22ef_11ea_8566_38f9d353bc0erow6_col0\" class=\"data row6 col0\" >Time Series (Random Walk)</td>\n",
       "                        <td id=\"T_95f1ec88_22ef_11ea_8566_38f9d353bc0erow6_col1\" class=\"data row6 col1\" >0.99652</td>\n",
       "                        <td id=\"T_95f1ec88_22ef_11ea_8566_38f9d353bc0erow6_col2\" class=\"data row6 col2\" >-</td>\n",
       "            </tr>\n",
       "            <tr>\n",
       "                                <td id=\"T_95f1ec88_22ef_11ea_8566_38f9d353bc0erow7_col0\" class=\"data row7 col0\" >Time Series (one term AR)</td>\n",
       "                        <td id=\"T_95f1ec88_22ef_11ea_8566_38f9d353bc0erow7_col1\" class=\"data row7 col1\" >0.9967</td>\n",
       "                        <td id=\"T_95f1ec88_22ef_11ea_8566_38f9d353bc0erow7_col2\" class=\"data row7 col2\" >0.909787</td>\n",
       "            </tr>\n",
       "            <tr>\n",
       "                                <td id=\"T_95f1ec88_22ef_11ea_8566_38f9d353bc0erow8_col0\" class=\"data row8 col0\" >Time Series (two term AR)</td>\n",
       "                        <td id=\"T_95f1ec88_22ef_11ea_8566_38f9d353bc0erow8_col1\" class=\"data row8 col1\" >0.9969</td>\n",
       "                        <td id=\"T_95f1ec88_22ef_11ea_8566_38f9d353bc0erow8_col2\" class=\"data row8 col2\" >0.909041</td>\n",
       "            </tr>\n",
       "            <tr>\n",
       "                                <td id=\"T_95f1ec88_22ef_11ea_8566_38f9d353bc0erow9_col0\" class=\"data row9 col0\" >Time Series (RF)</td>\n",
       "                        <td id=\"T_95f1ec88_22ef_11ea_8566_38f9d353bc0erow9_col1\" class=\"data row9 col1\" >-</td>\n",
       "                        <td id=\"T_95f1ec88_22ef_11ea_8566_38f9d353bc0erow9_col2\" class=\"data row9 col2\" >0.894566</td>\n",
       "            </tr>\n",
       "    </tbody></table>"
      ],
      "text/plain": [
       "<pandas.io.formats.style.Styler at 0x116d7a710>"
      ]
     },
     "execution_count": 5,
     "metadata": {},
     "output_type": "execute_result"
    }
   ],
   "source": [
    "result.style.hide_index()"
   ]
  },
  {
   "cell_type": "code",
   "execution_count": null,
   "metadata": {},
   "outputs": [],
   "source": []
  }
 ],
 "metadata": {
  "kernelspec": {
   "display_name": "Python 3",
   "language": "python",
   "name": "python3"
  },
  "language_info": {
   "codemirror_mode": {
    "name": "ipython",
    "version": 3
   },
   "file_extension": ".py",
   "mimetype": "text/x-python",
   "name": "python",
   "nbconvert_exporter": "python",
   "pygments_lexer": "ipython3",
   "version": "3.7.4"
  }
 },
 "nbformat": 4,
 "nbformat_minor": 2
}
